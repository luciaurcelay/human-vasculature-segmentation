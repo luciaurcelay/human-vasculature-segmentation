{
 "cells": [
  {
   "cell_type": "code",
   "execution_count": null,
   "id": "3642a921",
   "metadata": {
    "execution": {
     "iopub.execute_input": "2023-07-31T19:14:49.189399Z",
     "iopub.status.busy": "2023-07-31T19:14:49.189057Z",
     "iopub.status.idle": "2023-07-31T19:15:24.056250Z",
     "shell.execute_reply": "2023-07-31T19:15:24.055191Z"
    },
    "papermill": {
     "duration": 34.879557,
     "end_time": "2023-07-31T19:15:24.058736",
     "exception": false,
     "start_time": "2023-07-31T19:14:49.179179",
     "status": "completed"
    },
    "tags": []
   },
   "outputs": [],
   "source": [
    "!pip install -q -U segmentation-models-pytorch albumentations > /dev/null\n",
    "!pip install segmentation_models_pytorch\n",
    "import segmentation_models_pytorch as smp"
   ]
  },
  {
   "cell_type": "code",
   "execution_count": null,
   "id": "a89e143a",
   "metadata": {
    "execution": {
     "iopub.execute_input": "2023-07-31T19:15:24.078060Z",
     "iopub.status.busy": "2023-07-31T19:15:24.077744Z",
     "iopub.status.idle": "2023-07-31T19:15:26.887396Z",
     "shell.execute_reply": "2023-07-31T19:15:26.886336Z"
    },
    "papermill": {
     "duration": 2.821897,
     "end_time": "2023-07-31T19:15:26.889850",
     "exception": false,
     "start_time": "2023-07-31T19:15:24.067953",
     "status": "completed"
    },
    "tags": []
   },
   "outputs": [],
   "source": [
    "# Import libraries\n",
    "import os\n",
    "import json\n",
    "from PIL import Image\n",
    "from collections import Counter\n",
    "\n",
    "import numpy as np\n",
    "import matplotlib.pyplot as plt\n",
    "import matplotlib.image as mpimg\n",
    "import pandas as pd\n",
    "import tifffile as tiff\n",
    "import plotly.express as px\n",
    "import plotly.graph_objects as go\n",
    "from tqdm import tqdm\n",
    "\n",
    "import cv2\n",
    "import torch\n",
    "from torch.utils.data import Dataset, DataLoader\n",
    "from torch.utils.data import random_split\n",
    "from torchvision import transforms\n",
    "from torch import nn\n",
    "import albumentations as album"
   ]
  },
  {
   "cell_type": "markdown",
   "id": "26b926a1",
   "metadata": {
    "papermill": {
     "duration": 0.009017,
     "end_time": "2023-07-31T19:15:26.908223",
     "exception": false,
     "start_time": "2023-07-31T19:15:26.899206",
     "status": "completed"
    },
    "tags": []
   },
   "source": [
    "# Data Exploration and Visualization"
   ]
  },
  {
   "cell_type": "code",
   "execution_count": null,
   "id": "b725b8ab",
   "metadata": {
    "execution": {
     "iopub.execute_input": "2023-07-31T19:15:26.927118Z",
     "iopub.status.busy": "2023-07-31T19:15:26.926808Z",
     "iopub.status.idle": "2023-07-31T19:15:26.932675Z",
     "shell.execute_reply": "2023-07-31T19:15:26.931773Z"
    },
    "papermill": {
     "duration": 0.017846,
     "end_time": "2023-07-31T19:15:26.934894",
     "exception": false,
     "start_time": "2023-07-31T19:15:26.917048",
     "status": "completed"
    },
    "tags": []
   },
   "outputs": [],
   "source": [
    "# Paths to data\n",
    "DATA_PATH = os.path.join('/kaggle/input/hubmap-hacking-the-human-vasculature', 'train/')\n",
    "POLYGONS_PATH = os.path.join('/kaggle/input/hubmap-hacking-the-human-vasculature', 'polygons.jsonl')\n",
    "WSI_META_PATH = os.path.join('/kaggle/input/hubmap-hacking-the-human-vasculature', 'wsi_,eta.csv')\n",
    "TILE_META_PATH = os.path.join('/kaggle/input/hubmap-hacking-the-human-vasculature', 'tile_meta.csv')"
   ]
  },
  {
   "cell_type": "code",
   "execution_count": null,
   "id": "3bffb6d8",
   "metadata": {
    "execution": {
     "iopub.execute_input": "2023-07-31T19:15:26.953560Z",
     "iopub.status.busy": "2023-07-31T19:15:26.953291Z",
     "iopub.status.idle": "2023-07-31T19:15:27.385559Z",
     "shell.execute_reply": "2023-07-31T19:15:27.384680Z"
    },
    "papermill": {
     "duration": 0.446272,
     "end_time": "2023-07-31T19:15:27.389955",
     "exception": false,
     "start_time": "2023-07-31T19:15:26.943683",
     "status": "completed"
    },
    "tags": []
   },
   "outputs": [],
   "source": [
    "# Visualization of an image\n",
    "\n",
    "# Path to your image file\n",
    "image_path = os.path.join(DATA_PATH, os.listdir(DATA_PATH)[145])\n",
    "image_id = os.listdir(DATA_PATH)[145]\n",
    "print(image_id.split('.')[0])\n",
    "\n",
    "# Load the image using matplotlib.image.imread\n",
    "image = mpimg.imread(image_path)\n",
    "\n",
    "# Display the image using matplotlib.pyplot.imshow\n",
    "plt.imshow(image)\n",
    "plt.axis('off')  # Optional: turn off axis ticks and labels\n",
    "plt.show()"
   ]
  },
  {
   "cell_type": "code",
   "execution_count": null,
   "id": "e875142e",
   "metadata": {
    "execution": {
     "iopub.execute_input": "2023-07-31T19:15:27.418264Z",
     "iopub.status.busy": "2023-07-31T19:15:27.417904Z",
     "iopub.status.idle": "2023-07-31T19:15:32.007127Z",
     "shell.execute_reply": "2023-07-31T19:15:32.006093Z"
    },
    "papermill": {
     "duration": 4.60653,
     "end_time": "2023-07-31T19:15:32.009880",
     "exception": false,
     "start_time": "2023-07-31T19:15:27.403350",
     "status": "completed"
    },
    "tags": []
   },
   "outputs": [],
   "source": [
    "# Read jsonl file and creat a list of dicts\n",
    "with open(POLYGONS_PATH, \"r\") as json_file:\n",
    "    json_list = list(json_file)\n",
    "\n",
    "tiles_dicts = []\n",
    "for json_elem in json_list:\n",
    "    tiles_dicts.append(json.loads(json_elem))"
   ]
  },
  {
   "cell_type": "code",
   "execution_count": null,
   "id": "3b0a3dd3",
   "metadata": {
    "execution": {
     "iopub.execute_input": "2023-07-31T19:15:32.038934Z",
     "iopub.status.busy": "2023-07-31T19:15:32.038607Z",
     "iopub.status.idle": "2023-07-31T19:15:32.077882Z",
     "shell.execute_reply": "2023-07-31T19:15:32.076734Z"
    },
    "papermill": {
     "duration": 0.05555,
     "end_time": "2023-07-31T19:15:32.080107",
     "exception": false,
     "start_time": "2023-07-31T19:15:32.024557",
     "status": "completed"
    },
    "tags": []
   },
   "outputs": [],
   "source": [
    "# Read tile meta csv\n",
    "# tile meta csv contains metadata of each image\n",
    "tile_meta_df = pd.read_csv(TILE_META_PATH)\n",
    "tile_meta_df"
   ]
  },
  {
   "cell_type": "code",
   "execution_count": null,
   "id": "6b4998aa",
   "metadata": {
    "execution": {
     "iopub.execute_input": "2023-07-31T19:15:32.109474Z",
     "iopub.status.busy": "2023-07-31T19:15:32.109189Z",
     "iopub.status.idle": "2023-07-31T19:15:32.120505Z",
     "shell.execute_reply": "2023-07-31T19:15:32.119627Z"
    },
    "papermill": {
     "duration": 0.028534,
     "end_time": "2023-07-31T19:15:32.122601",
     "exception": false,
     "start_time": "2023-07-31T19:15:32.094067",
     "status": "completed"
    },
    "tags": []
   },
   "outputs": [],
   "source": [
    "# Plot the annotation masks over the image\n",
    "def get_cartesian_coords(coords, img_height):\n",
    "    coords_array = np.array(coords).squeeze()\n",
    "    xs = coords_array[:, 0]\n",
    "    ys = -coords_array[:, 1] + img_height\n",
    "    \n",
    "    return xs, ys\n",
    "\n",
    "\n",
    "def plot_annotated_image(image_dict, scale_factor: int = 1.0) -> None:\n",
    "    #array = tiff.imread(CFG.img_path_template.format(image_dict[\"id\"]))\n",
    "    array = tiff.imread(f'/kaggle/input/hubmap-hacking-the-human-vasculature/train/{image_dict[\"id\"]}.tif')\n",
    "    \n",
    "    img_example = Image.fromarray(array)\n",
    "    annotations = image_dict[\"annotations\"]\n",
    "    \n",
    "    # create figure\n",
    "    fig = go.Figure()\n",
    "\n",
    "    # constants\n",
    "    img_width = img_example.size[0]\n",
    "    img_height = img_example.size[1]\n",
    "    \n",
    "    # add invisible scatter trace\n",
    "    fig.add_trace(\n",
    "        go.Scatter(\n",
    "            x=[0, img_width],\n",
    "            y=[0, img_height],\n",
    "            mode=\"markers\",\n",
    "            marker_opacity=0\n",
    "        )\n",
    "    )\n",
    "\n",
    "    # configure axes\n",
    "    fig.update_xaxes(\n",
    "        visible=False,\n",
    "        range=[0, img_width]\n",
    "    )\n",
    "\n",
    "    fig.update_yaxes(\n",
    "        visible=False,\n",
    "        range=[0, img_height],\n",
    "        # the scaleanchor attribute ensures that the aspect ratio stays constant\n",
    "        scaleanchor=\"x\"\n",
    "    )\n",
    "\n",
    "    # add image\n",
    "    fig.add_layout_image(dict(\n",
    "        x=0,\n",
    "        sizex=img_width,\n",
    "        y=img_height,\n",
    "        sizey=img_height,\n",
    "        xref=\"x\", yref=\"y\",\n",
    "        opacity=1.0,\n",
    "        layer=\"below\",\n",
    "        sizing=\"stretch\",\n",
    "        source=img_example\n",
    "    ))\n",
    "    \n",
    "    # add polygons\n",
    "    for annotation in annotations:\n",
    "        name = annotation[\"type\"]\n",
    "        xs, ys = get_cartesian_coords(annotation[\"coordinates\"], img_height)\n",
    "        fig.add_trace(go.Scatter(\n",
    "            x=xs, y=ys, fill=\"toself\",\n",
    "            name=name,\n",
    "            hovertemplate=\"%{name}\",\n",
    "            mode='lines'\n",
    "        ))\n",
    "\n",
    "    # configure other layout\n",
    "    fig.update_layout(\n",
    "        width=img_width * scale_factor,\n",
    "        height=img_height * scale_factor,\n",
    "        margin={\"l\": 0, \"r\": 0, \"t\": 0, \"b\": 0},\n",
    "        showlegend=False\n",
    "    )\n",
    "\n",
    "    # disable the autosize on double click because it adds unwanted margins around the image\n",
    "    # and finally show figure\n",
    "    fig.show(config={'doubleClick': 'reset'})"
   ]
  },
  {
   "cell_type": "code",
   "execution_count": null,
   "id": "39baf20f",
   "metadata": {
    "execution": {
     "iopub.execute_input": "2023-07-31T19:15:32.151820Z",
     "iopub.status.busy": "2023-07-31T19:15:32.150956Z",
     "iopub.status.idle": "2023-07-31T19:15:32.475328Z",
     "shell.execute_reply": "2023-07-31T19:15:32.470417Z"
    },
    "papermill": {
     "duration": 0.345809,
     "end_time": "2023-07-31T19:15:32.482252",
     "exception": false,
     "start_time": "2023-07-31T19:15:32.136443",
     "status": "completed"
    },
    "tags": []
   },
   "outputs": [],
   "source": [
    "plot_annotated_image(tiles_dicts[8])"
   ]
  },
  {
   "cell_type": "markdown",
   "id": "1410d17d",
   "metadata": {
    "papermill": {
     "duration": 0.022061,
     "end_time": "2023-07-31T19:15:32.526391",
     "exception": false,
     "start_time": "2023-07-31T19:15:32.504330",
     "status": "completed"
    },
    "tags": []
   },
   "source": [
    "# Dataset Creation"
   ]
  },
  {
   "cell_type": "code",
   "execution_count": null,
   "id": "885bd1fd",
   "metadata": {
    "execution": {
     "iopub.execute_input": "2023-07-31T19:15:32.572708Z",
     "iopub.status.busy": "2023-07-31T19:15:32.572008Z",
     "iopub.status.idle": "2023-07-31T19:15:32.581978Z",
     "shell.execute_reply": "2023-07-31T19:15:32.581043Z"
    },
    "papermill": {
     "duration": 0.035522,
     "end_time": "2023-07-31T19:15:32.583983",
     "exception": false,
     "start_time": "2023-07-31T19:15:32.548461",
     "status": "completed"
    },
    "tags": []
   },
   "outputs": [],
   "source": [
    "# Create masks of blood vessels\n",
    "def make_seg_mask(tiles_dict):\n",
    "    mask = np.zeros((512, 512), dtype=np.float32)\n",
    "    for annot in tiles_dict['annotations']:\n",
    "        cords = annot['coordinates']\n",
    "        if annot['type'] == \"blood_vessel\":\n",
    "            for cd in cords:\n",
    "                rr, cc = np.array([i[1] for i in cd]), np.asarray([i[0] for i in cd])\n",
    "                mask[rr, cc] = 1\n",
    "                \n",
    "    contours,_ = cv2.findContours((mask*255).astype(np.uint8), 1, 2)\n",
    "    zero_img = np.zeros([mask.shape[0], mask.shape[1], 3], dtype=\"uint8\")\n",
    "\n",
    "    for p in contours:\n",
    "        cv2.fillPoly(zero_img, [p], (255, 255, 255))\n",
    "\n",
    "    contours, hierarchy = cv2.findContours(mask.astype(\"uint8\"), cv2.RETR_LIST, cv2.CHAIN_APPROX_SIMPLE)\n",
    "    img_with_area = zero_img\n",
    "\n",
    "    for i in range(len(contours)):\n",
    "        cv2.fillPoly(img_with_area, [contours[i][:,0,:]], (255-4*(i+1),255-4*(i+1),255-4*(i+1)), lineType=cv2.LINE_8, shift=0)\n",
    "            \n",
    "    return img_with_area  "
   ]
  },
  {
   "cell_type": "code",
   "execution_count": null,
   "id": "47c18193",
   "metadata": {
    "execution": {
     "iopub.execute_input": "2023-07-31T19:15:32.630585Z",
     "iopub.status.busy": "2023-07-31T19:15:32.629617Z",
     "iopub.status.idle": "2023-07-31T19:16:53.392134Z",
     "shell.execute_reply": "2023-07-31T19:16:53.390194Z"
    },
    "papermill": {
     "duration": 80.788347,
     "end_time": "2023-07-31T19:16:53.394307",
     "exception": false,
     "start_time": "2023-07-31T19:15:32.605960",
     "status": "completed"
    },
    "scrolled": true,
    "tags": []
   },
   "outputs": [],
   "source": [
    "# Save iamges and masks of blood vessels in a new directory\n",
    "os.makedirs('train/image', exist_ok=True)\n",
    "os.makedirs('train/mask', exist_ok=True)\n",
    "os.makedirs('test/image', exist_ok=True)\n",
    "os.makedirs('test/mask', exist_ok=True)\n",
    "\n",
    "for i, tldc in enumerate(tqdm(tiles_dicts)):\n",
    "    tile_id = tldc[\"id\"]\n",
    "    # Find the corresponding row in the DataFrame where 'id' matches the filename\n",
    "    row = tile_meta_df[tile_meta_df['id'] == tile_id]\n",
    "    # Check the 'dataset' value for the found row\n",
    "    dataset_value = row['dataset'].values[0]\n",
    "    array = tiff.imread(f'/kaggle/input/hubmap-hacking-the-human-vasculature/train/{tldc[\"id\"]}.tif')\n",
    "    img_example = Image.fromarray(array)\n",
    "    img = np.array(img_example)\n",
    "    mask = make_seg_mask(tldc)\n",
    "    \n",
    "    if np.sum(mask)>0:\n",
    "        \n",
    "        if dataset_value == 1:\n",
    "\n",
    "            cv2.imwrite(f'test/image/{tldc[\"id\"]}.png', img)\n",
    "            cv2.imwrite(f'test/mask/{tldc[\"id\"]}_mask.png', mask)\n",
    "            \n",
    "        else:\n",
    "            \n",
    "            cv2.imwrite(f'train/image/{tldc[\"id\"]}.png', img)\n",
    "            cv2.imwrite(f'train/mask/{tldc[\"id\"]}_mask.png', mask)"
   ]
  },
  {
   "cell_type": "code",
   "execution_count": null,
   "id": "763744b9",
   "metadata": {
    "execution": {
     "iopub.execute_input": "2023-07-31T19:16:53.529390Z",
     "iopub.status.busy": "2023-07-31T19:16:53.528494Z",
     "iopub.status.idle": "2023-07-31T19:16:53.534200Z",
     "shell.execute_reply": "2023-07-31T19:16:53.533253Z"
    },
    "papermill": {
     "duration": 0.074942,
     "end_time": "2023-07-31T19:16:53.536202",
     "exception": false,
     "start_time": "2023-07-31T19:16:53.461260",
     "status": "completed"
    },
    "tags": []
   },
   "outputs": [],
   "source": [
    "# Define new paths to data\n",
    "MYDATA_PATH = '/kaggle/working'\n",
    "TRAIN_IMG_PATH = os.path.join(MYDATA_PATH, 'train/image')\n",
    "TRAIN_MASK_PATH =  os.path.join(MYDATA_PATH, 'train/mask')\n",
    "TEST_IMG_PATH = os.path.join(MYDATA_PATH, 'test/image')\n",
    "TEST_MASK_PATH =  os.path.join(MYDATA_PATH, 'test/mask')"
   ]
  },
  {
   "cell_type": "code",
   "execution_count": null,
   "id": "9c9a73af",
   "metadata": {
    "execution": {
     "iopub.execute_input": "2023-07-31T19:16:53.672973Z",
     "iopub.status.busy": "2023-07-31T19:16:53.672618Z",
     "iopub.status.idle": "2023-07-31T19:16:54.114249Z",
     "shell.execute_reply": "2023-07-31T19:16:54.113408Z"
    },
    "papermill": {
     "duration": 0.517028,
     "end_time": "2023-07-31T19:16:54.118724",
     "exception": false,
     "start_time": "2023-07-31T19:16:53.601696",
     "status": "completed"
    },
    "tags": []
   },
   "outputs": [],
   "source": [
    "# Load an image using matplotlib.image.imread\n",
    "image_path = os.path.join(TRAIN_IMG_PATH, '0006ff2aa7cd.png')\n",
    "image = mpimg.imread(image_path)\n",
    "\n",
    "mask_path =  os.path.join(TRAIN_MASK_PATH,'0006ff2aa7cd_mask.png')\n",
    "mask = mpimg.imread(mask_path)\n",
    "\n",
    "# Display the image using matplotlib.pyplot.imshow\n",
    "plt.imshow(image)\n",
    "plt.imshow(mask, alpha=0.5, cmap='jet')\n",
    "plt.show()"
   ]
  },
  {
   "cell_type": "code",
   "execution_count": null,
   "id": "86dc646b",
   "metadata": {
    "execution": {
     "iopub.execute_input": "2023-07-31T19:16:54.266871Z",
     "iopub.status.busy": "2023-07-31T19:16:54.264942Z",
     "iopub.status.idle": "2023-07-31T19:16:54.275177Z",
     "shell.execute_reply": "2023-07-31T19:16:54.274171Z"
    },
    "papermill": {
     "duration": 0.086554,
     "end_time": "2023-07-31T19:16:54.277380",
     "exception": false,
     "start_time": "2023-07-31T19:16:54.190826",
     "status": "completed"
    },
    "tags": []
   },
   "outputs": [],
   "source": [
    "# Create dataset\n",
    "class HubMapDataset(Dataset):\n",
    "    def __init__(self, image_dir, mask_dir, img_transform=None, mask_transform=None):\n",
    "        self.image_dir = image_dir\n",
    "        self.mask_dir = mask_dir\n",
    "\n",
    "        self.image_filenames = sorted(os.listdir(image_dir))\n",
    "        self.mask_filenames = sorted(os.listdir(mask_dir))\n",
    "        \n",
    "        self.img_transform = img_transform\n",
    "        self.mask_transform = mask_transform\n",
    "\n",
    "    def __len__(self):\n",
    "        return len(self.image_filenames)\n",
    "\n",
    "        \n",
    "    def __getitem__(self, idx):\n",
    "        image_name = self.image_filenames[idx]\n",
    "        mask_name = self.mask_filenames[idx]\n",
    "\n",
    "        image_path = os.path.join(self.image_dir, image_name)\n",
    "        mask_path = os.path.join(self.mask_dir, mask_name)\n",
    "\n",
    "        # Open image and mask using PIL (Python Imaging Library)\n",
    "        image = Image.open(image_path).convert(\"RGB\")\n",
    "        if self.img_transform:\n",
    "            image = self.img_transform(image)\n",
    "        \n",
    "        mask = Image.open(mask_path).convert(\"L\")  # Convert to grayscale\n",
    "        if self.mask_transform:\n",
    "            mask = self.mask_transform(mask)\n",
    "\n",
    "        return image, mask"
   ]
  },
  {
   "cell_type": "code",
   "execution_count": null,
   "id": "2ad3608e",
   "metadata": {
    "execution": {
     "iopub.execute_input": "2023-07-31T19:16:54.418498Z",
     "iopub.status.busy": "2023-07-31T19:16:54.417528Z",
     "iopub.status.idle": "2023-07-31T19:16:54.424438Z",
     "shell.execute_reply": "2023-07-31T19:16:54.423567Z"
    },
    "papermill": {
     "duration": 0.080088,
     "end_time": "2023-07-31T19:16:54.426608",
     "exception": false,
     "start_time": "2023-07-31T19:16:54.346520",
     "status": "completed"
    },
    "tags": []
   },
   "outputs": [],
   "source": [
    "from segmentation_models_pytorch import utils"
   ]
  },
  {
   "cell_type": "code",
   "execution_count": null,
   "id": "9b2e8de5",
   "metadata": {
    "execution": {
     "iopub.execute_input": "2023-07-31T19:16:54.567062Z",
     "iopub.status.busy": "2023-07-31T19:16:54.566735Z",
     "iopub.status.idle": "2023-07-31T19:16:54.649011Z",
     "shell.execute_reply": "2023-07-31T19:16:54.648052Z"
    },
    "papermill": {
     "duration": 0.155853,
     "end_time": "2023-07-31T19:16:54.651424",
     "exception": false,
     "start_time": "2023-07-31T19:16:54.495571",
     "status": "completed"
    },
    "tags": []
   },
   "outputs": [],
   "source": [
    "# Config class\n",
    "class CFG:\n",
    "    \n",
    "    batch_size_train = 8\n",
    "    batch_size_val = 1\n",
    "    size = 512\n",
    "    org_size = 512\n",
    "    # encoder_depth = 4\n",
    "    # decoder_channels = [512, 256, 128, 64]\n",
    "    \n",
    "    device = torch.device('cuda') if torch.cuda.is_available() else torch.device('cpu')\n",
    "    print(device)\n",
    "    use_cuda = torch.cuda.is_available()\n",
    "    if use_cuda:\n",
    "      torch.cuda.manual_seed(1)\n",
    "    \n",
    "    # Set flag to train the model or not. If set to 'False', only prediction is performed (using an older model checkpoint)\n",
    "    TRAINING = True\n",
    "    \n",
    "    # Set num of epochs\n",
    "    EPOCHS = 12\n",
    "    # define loss function\n",
    "    loss = smp.utils.losses.DiceLoss()\n",
    "\n",
    "    # define metrics\n",
    "    metrics = [\n",
    "        smp.utils.metrics.IoU(threshold=0.5),\n",
    "    ]\n",
    "\n",
    "\n",
    "    \n",
    "    # Image transformations\n",
    "    image_transform = transforms.Compose([\n",
    "        transforms.Resize((size, size)),  # Resize the image to the desired size\n",
    "        transforms.ToTensor(), # Convert PIL image to PyTorch tensor\n",
    "        transforms.Normalize(mean=(0.485, 0.456, 0.406), std=(0.229, 0.224, 0.225)),  # Normalize image\n",
    "    ])\n",
    "\n",
    "    # Mask transformations (no normalization applied)\n",
    "    mask_transform = transforms.Compose([\n",
    "        transforms.Resize((size, size)),  # Resize the mask to the desired size\n",
    "        transforms.ToTensor(), # Convert PIL image to PyTorch tensor\n",
    "    ])\n",
    "    \n",
    "    "
   ]
  },
  {
   "cell_type": "code",
   "execution_count": null,
   "id": "40478c3c",
   "metadata": {
    "execution": {
     "iopub.execute_input": "2023-07-31T19:16:54.796449Z",
     "iopub.status.busy": "2023-07-31T19:16:54.796119Z",
     "iopub.status.idle": "2023-07-31T19:16:55.329217Z",
     "shell.execute_reply": "2023-07-31T19:16:55.328161Z"
    },
    "papermill": {
     "duration": 0.607205,
     "end_time": "2023-07-31T19:16:55.331260",
     "exception": false,
     "start_time": "2023-07-31T19:16:54.724055",
     "status": "completed"
    },
    "tags": []
   },
   "outputs": [],
   "source": [
    "import gc\n",
    "gc.collect()\n",
    "torch.cuda.empty_cache()"
   ]
  },
  {
   "cell_type": "code",
   "execution_count": null,
   "id": "691d6729",
   "metadata": {
    "execution": {
     "iopub.execute_input": "2023-07-31T19:16:55.475458Z",
     "iopub.status.busy": "2023-07-31T19:16:55.473562Z",
     "iopub.status.idle": "2023-07-31T19:16:55.495012Z",
     "shell.execute_reply": "2023-07-31T19:16:55.493943Z"
    },
    "papermill": {
     "duration": 0.094871,
     "end_time": "2023-07-31T19:16:55.497052",
     "exception": false,
     "start_time": "2023-07-31T19:16:55.402181",
     "status": "completed"
    },
    "tags": []
   },
   "outputs": [],
   "source": [
    "# Create Datasets\n",
    "train_dataset = HubMapDataset(\n",
    "    image_dir=TRAIN_IMG_PATH, \n",
    "    mask_dir=TRAIN_MASK_PATH, \n",
    "    img_transform=CFG.image_transform, \n",
    "    mask_transform=CFG.mask_transform\n",
    ")\n",
    "\n",
    "test_dataset = HubMapDataset(\n",
    "    image_dir=TEST_IMG_PATH, \n",
    "    mask_dir=TEST_MASK_PATH, \n",
    "    img_transform=CFG.image_transform, \n",
    "    mask_transform=CFG.mask_transform\n",
    ")\n",
    "\n",
    "# Create train validation split\n",
    "train_dataset, val_dataset = random_split(train_dataset, [0.6, 0.4])\n",
    "\n",
    "print(f'Train split length: {len(train_dataset)}')\n",
    "print(f'Val split length: {len(val_dataset)}')\n",
    "print(f'Test split length: {len(test_dataset)}')\n",
    "\n",
    "\n",
    "# Create data loaders\n",
    "train_loader = DataLoader(train_dataset, batch_size=CFG.batch_size_train, shuffle=False)\n",
    "val_loader = DataLoader(val_dataset, batch_size=CFG.batch_size_val, shuffle=False)\n",
    "test_loader = DataLoader(test_dataset, batch_size=CFG.batch_size_val, shuffle=False)\n"
   ]
  },
  {
   "cell_type": "code",
   "execution_count": null,
   "id": "046d919d",
   "metadata": {
    "execution": {
     "iopub.execute_input": "2023-07-31T19:16:55.639354Z",
     "iopub.status.busy": "2023-07-31T19:16:55.639016Z",
     "iopub.status.idle": "2023-07-31T19:16:56.049119Z",
     "shell.execute_reply": "2023-07-31T19:16:56.048155Z"
    },
    "papermill": {
     "duration": 0.486023,
     "end_time": "2023-07-31T19:16:56.052926",
     "exception": false,
     "start_time": "2023-07-31T19:16:55.566903",
     "status": "completed"
    },
    "tags": []
   },
   "outputs": [],
   "source": [
    "# Helper function to get a random image-mask pair from a dataset\n",
    "def get_random_sample(dataset):\n",
    "    idx = torch.randint(0, len(dataset), (1,))\n",
    "    return dataset[idx]\n",
    "\n",
    "# Get random samples from each dataset\n",
    "train_sample_image, train_sample_mask = get_random_sample(train_dataset)\n",
    "val_sample_image, val_sample_mask = get_random_sample(val_dataset)\n",
    "test_sample_image, test_sample_mask = get_random_sample(test_dataset)\n",
    "\n",
    "plt.imshow(train_sample_image.permute(1, 2, 0))\n",
    "plt.show()"
   ]
  },
  {
   "cell_type": "markdown",
   "id": "ab47dd53",
   "metadata": {
    "papermill": {
     "duration": 0.102948,
     "end_time": "2023-07-31T19:16:56.230602",
     "exception": false,
     "start_time": "2023-07-31T19:16:56.127654",
     "status": "completed"
    },
    "tags": []
   },
   "source": [
    "# Model Implementation"
   ]
  },
  {
   "cell_type": "code",
   "execution_count": null,
   "id": "c18a6362",
   "metadata": {
    "execution": {
     "iopub.execute_input": "2023-07-31T19:16:56.390453Z",
     "iopub.status.busy": "2023-07-31T19:16:56.390107Z",
     "iopub.status.idle": "2023-07-31T19:16:56.711798Z",
     "shell.execute_reply": "2023-07-31T19:16:56.710809Z"
    },
    "papermill": {
     "duration": 0.398856,
     "end_time": "2023-07-31T19:16:56.714274",
     "exception": false,
     "start_time": "2023-07-31T19:16:56.315418",
     "status": "completed"
    },
    "tags": []
   },
   "outputs": [],
   "source": [
    "class DoubleConv(nn.Module):\n",
    "    def __init__(self, in_channels, out_channels):\n",
    "        super(DoubleConv, self).__init__()\n",
    "        self.double_conv = nn.Sequential(\n",
    "            nn.Conv2d(in_channels, out_channels, kernel_size=3, padding=1),\n",
    "            nn.BatchNorm2d(out_channels),\n",
    "            nn.ReLU(inplace=True),\n",
    "            nn.Conv2d(out_channels, out_channels, kernel_size=3, padding=1),\n",
    "            nn.BatchNorm2d(out_channels),\n",
    "            nn.ReLU(inplace=True),\n",
    "        )\n",
    "\n",
    "    def forward(self, x):\n",
    "        return self.double_conv(x)\n",
    "    \n",
    "    \n",
    "class DownBlock(nn.Module):\n",
    "    def __init__(self, in_channels, out_channels):\n",
    "        super(DownBlock, self).__init__()\n",
    "        self.double_conv = DoubleConv(in_channels, out_channels)\n",
    "        self.down_sample = nn.MaxPool2d(2)\n",
    "\n",
    "    def forward(self, x):\n",
    "        skip_out = self.double_conv(x)\n",
    "        down_out = self.down_sample(skip_out)\n",
    "        return (down_out, skip_out)\n",
    "\n",
    "    \n",
    "class UpBlock(nn.Module):\n",
    "    def __init__(self, in_channels, out_channels, up_sample_mode):\n",
    "        super(UpBlock, self).__init__()\n",
    "        if up_sample_mode == 'conv_transpose':\n",
    "            self.up_sample = nn.ConvTranspose2d(in_channels-out_channels, in_channels-out_channels, kernel_size=2, stride=2)        \n",
    "        elif up_sample_mode == 'bilinear':\n",
    "            self.up_sample = nn.Upsample(scale_factor=2, mode='bilinear', align_corners=True)\n",
    "        else:\n",
    "            raise ValueError(\"Unsupported `up_sample_mode` (can take one of `conv_transpose` or `bilinear`)\")\n",
    "        self.double_conv = DoubleConv(in_channels, out_channels)\n",
    "\n",
    "    def forward(self, down_input, skip_input):\n",
    "        x = self.up_sample(down_input)\n",
    "        x = torch.cat([x, skip_input], dim=1)\n",
    "        return self.double_conv(x)\n",
    "\n",
    "    \n",
    "class UNet(nn.Module):\n",
    "    def __init__(self, out_classes=2, up_sample_mode='conv_transpose'):\n",
    "        super(UNet, self).__init__()\n",
    "        self.up_sample_mode = up_sample_mode\n",
    "        # Downsampling Path\n",
    "        self.down_conv1 = DownBlock(3, 64)\n",
    "        self.down_conv2 = DownBlock(64, 128)\n",
    "        self.down_conv3 = DownBlock(128, 256)\n",
    "        self.down_conv4 = DownBlock(256, 512)\n",
    "        # Bottleneck\n",
    "        self.double_conv = DoubleConv(512, 1024)\n",
    "        # Upsampling Path\n",
    "        self.up_conv4 = UpBlock(512 + 1024, 512, self.up_sample_mode)\n",
    "        self.up_conv3 = UpBlock(256 + 512, 256, self.up_sample_mode)\n",
    "        self.up_conv2 = UpBlock(128 + 256, 128, self.up_sample_mode)\n",
    "        self.up_conv1 = UpBlock(128 + 64, 64, self.up_sample_mode)\n",
    "        # Final Convolution\n",
    "        self.conv_last = nn.Conv2d(64, out_classes, kernel_size=1)\n",
    "\n",
    "    def forward(self, x):\n",
    "        x, skip1_out = self.down_conv1(x)\n",
    "        x, skip2_out = self.down_conv2(x)\n",
    "        x, skip3_out = self.down_conv3(x)\n",
    "        x, skip4_out = self.down_conv4(x)\n",
    "        x = self.double_conv(x)\n",
    "        x = self.up_conv4(x, skip4_out)\n",
    "        x = self.up_conv3(x, skip3_out)\n",
    "        x = self.up_conv2(x, skip2_out)\n",
    "        x = self.up_conv1(x, skip1_out)\n",
    "        x = self.conv_last(x)\n",
    "        return x\n",
    "    \n",
    "\n",
    "# Get UNet model\n",
    "model = UNet()"
   ]
  },
  {
   "cell_type": "code",
   "execution_count": null,
   "id": "9c2c8ab4",
   "metadata": {
    "execution": {
     "iopub.execute_input": "2023-07-31T19:16:56.896558Z",
     "iopub.status.busy": "2023-07-31T19:16:56.896182Z",
     "iopub.status.idle": "2023-07-31T19:16:56.901645Z",
     "shell.execute_reply": "2023-07-31T19:16:56.900667Z"
    },
    "papermill": {
     "duration": 0.085796,
     "end_time": "2023-07-31T19:16:56.903708",
     "exception": false,
     "start_time": "2023-07-31T19:16:56.817912",
     "status": "completed"
    },
    "tags": []
   },
   "outputs": [],
   "source": [
    "# define optimizer\n",
    "optimizer = torch.optim.Adam([ \n",
    "    dict(params=model.parameters(), lr=0.00008),\n",
    "])"
   ]
  },
  {
   "cell_type": "code",
   "execution_count": null,
   "id": "9c1b9113",
   "metadata": {
    "execution": {
     "iopub.execute_input": "2023-07-31T19:16:57.052082Z",
     "iopub.status.busy": "2023-07-31T19:16:57.051717Z",
     "iopub.status.idle": "2023-07-31T19:17:00.073813Z",
     "shell.execute_reply": "2023-07-31T19:17:00.072811Z"
    },
    "papermill": {
     "duration": 3.099913,
     "end_time": "2023-07-31T19:17:00.076547",
     "exception": false,
     "start_time": "2023-07-31T19:16:56.976634",
     "status": "completed"
    },
    "tags": []
   },
   "outputs": [],
   "source": [
    "train_epoch = smp.utils.train.TrainEpoch(\n",
    "    model, \n",
    "    loss=CFG.loss, \n",
    "    metrics=CFG.metrics, \n",
    "    optimizer=optimizer,\n",
    "    device=CFG.device,\n",
    "    verbose=True,\n",
    ")\n",
    "\n",
    "valid_epoch = smp.utils.train.ValidEpoch(\n",
    "    model, \n",
    "    loss=CFG.loss, \n",
    "    metrics=CFG.metrics, \n",
    "    device=CFG.device,\n",
    "    verbose=True,\n",
    ")"
   ]
  },
  {
   "cell_type": "markdown",
   "id": "ea26f11a",
   "metadata": {
    "papermill": {
     "duration": 0.072531,
     "end_time": "2023-07-31T19:17:00.222642",
     "exception": false,
     "start_time": "2023-07-31T19:17:00.150111",
     "status": "completed"
    },
    "tags": []
   },
   "source": [
    "# Model Training and Evaluation"
   ]
  },
  {
   "cell_type": "code",
   "execution_count": null,
   "id": "6f6120d5",
   "metadata": {
    "execution": {
     "iopub.execute_input": "2023-07-31T19:17:00.370292Z",
     "iopub.status.busy": "2023-07-31T19:17:00.369942Z",
     "iopub.status.idle": "2023-07-31T19:46:19.038517Z",
     "shell.execute_reply": "2023-07-31T19:46:19.035568Z"
    },
    "papermill": {
     "duration": 1758.745535,
     "end_time": "2023-07-31T19:46:19.040743",
     "exception": false,
     "start_time": "2023-07-31T19:17:00.295208",
     "status": "completed"
    },
    "tags": []
   },
   "outputs": [],
   "source": [
    "if CFG.TRAINING:\n",
    "\n",
    "    best_iou_score = 0.0\n",
    "    train_logs_list, valid_logs_list = [], []\n",
    "\n",
    "    for i in range(0, CFG.EPOCHS):\n",
    "\n",
    "        # Perform training & validation\n",
    "        print('\\nEpoch: {}'.format(i))\n",
    "        train_logs = train_epoch.run(train_loader)\n",
    "        valid_logs = valid_epoch.run(val_loader)\n",
    "        train_logs_list.append(train_logs)\n",
    "        valid_logs_list.append(valid_logs)"
   ]
  },
  {
   "cell_type": "code",
   "execution_count": null,
   "id": "bbaafa3f",
   "metadata": {
    "execution": {
     "iopub.execute_input": "2023-07-31T19:46:20.850866Z",
     "iopub.status.busy": "2023-07-31T19:46:20.850455Z",
     "iopub.status.idle": "2023-07-31T19:46:48.788806Z",
     "shell.execute_reply": "2023-07-31T19:46:48.787809Z"
    },
    "papermill": {
     "duration": 28.842331,
     "end_time": "2023-07-31T19:46:48.792795",
     "exception": false,
     "start_time": "2023-07-31T19:46:19.950464",
     "status": "completed"
    },
    "tags": []
   },
   "outputs": [],
   "source": [
    "# Evaluation on test data\n",
    "test_epoch = smp.utils.train.ValidEpoch(\n",
    "    model,\n",
    "    loss=CFG.loss, \n",
    "    metrics=CFG.metrics, \n",
    "    device=CFG.device,\n",
    "    verbose=True,\n",
    ")\n",
    "\n",
    "valid_logs = test_epoch.run(test_loader)\n",
    "print(\"Evaluation on Test Data: \")\n",
    "print(f\"Mean IoU Score: {valid_logs['iou_score']:.4f}\")\n",
    "print(f\"Mean Dice Loss: {valid_logs['dice_loss']:.4f}\")\n"
   ]
  },
  {
   "cell_type": "code",
   "execution_count": null,
   "id": "886d7fce",
   "metadata": {
    "execution": {
     "iopub.execute_input": "2023-07-31T19:46:50.749350Z",
     "iopub.status.busy": "2023-07-31T19:46:50.748659Z",
     "iopub.status.idle": "2023-07-31T19:46:50.768303Z",
     "shell.execute_reply": "2023-07-31T19:46:50.767442Z"
    },
    "papermill": {
     "duration": 0.970724,
     "end_time": "2023-07-31T19:46:50.770207",
     "exception": false,
     "start_time": "2023-07-31T19:46:49.799483",
     "status": "completed"
    },
    "tags": []
   },
   "outputs": [],
   "source": [
    "# Plot Dice Loss & IoU Metric for Train vs. Val\n",
    "train_logs_df = pd.DataFrame(train_logs_list)\n",
    "valid_logs_df = pd.DataFrame(valid_logs_list)\n",
    "train_logs_df.T\n"
   ]
  },
  {
   "cell_type": "code",
   "execution_count": null,
   "id": "fc9737d6",
   "metadata": {
    "execution": {
     "iopub.execute_input": "2023-07-31T19:46:52.723989Z",
     "iopub.status.busy": "2023-07-31T19:46:52.723598Z",
     "iopub.status.idle": "2023-07-31T19:46:53.311248Z",
     "shell.execute_reply": "2023-07-31T19:46:53.310329Z"
    },
    "papermill": {
     "duration": 1.535429,
     "end_time": "2023-07-31T19:46:53.313728",
     "exception": false,
     "start_time": "2023-07-31T19:46:51.778299",
     "status": "completed"
    },
    "tags": []
   },
   "outputs": [],
   "source": [
    "plt.figure(figsize=(20,8))\n",
    "plt.plot(train_logs_df.index.tolist(), train_logs_df.iou_score.tolist(), lw=3, label = 'Train')\n",
    "plt.plot(valid_logs_df.index.tolist(), valid_logs_df.iou_score.tolist(), lw=3, label = 'Valid')\n",
    "plt.xlabel('Epochs', fontsize=21)\n",
    "plt.ylabel('IoU Score', fontsize=21)\n",
    "plt.title('IoU Score Plot', fontsize=21)\n",
    "plt.legend(loc='best', fontsize=16)\n",
    "plt.grid()\n",
    "plt.savefig('iou_score_plot.png')\n",
    "plt.show()"
   ]
  },
  {
   "cell_type": "code",
   "execution_count": null,
   "id": "21e4ef92",
   "metadata": {
    "execution": {
     "iopub.execute_input": "2023-07-31T19:46:55.284841Z",
     "iopub.status.busy": "2023-07-31T19:46:55.284400Z",
     "iopub.status.idle": "2023-07-31T19:46:55.862961Z",
     "shell.execute_reply": "2023-07-31T19:46:55.862035Z"
    },
    "papermill": {
     "duration": 1.538859,
     "end_time": "2023-07-31T19:46:55.865320",
     "exception": false,
     "start_time": "2023-07-31T19:46:54.326461",
     "status": "completed"
    },
    "tags": []
   },
   "outputs": [],
   "source": [
    "plt.figure(figsize=(20,8))\n",
    "plt.plot(train_logs_df.index.tolist(), train_logs_df.dice_loss.tolist(), lw=3, label = 'Train')\n",
    "plt.plot(valid_logs_df.index.tolist(), valid_logs_df.dice_loss.tolist(), lw=3, label = 'Valid')\n",
    "plt.xlabel('Epochs', fontsize=21)\n",
    "plt.ylabel('Dice Loss', fontsize=21)\n",
    "plt.title('Dice Loss Plot', fontsize=21)\n",
    "plt.legend(loc='best', fontsize=16)\n",
    "plt.grid()\n",
    "plt.savefig('dice_loss_plot.png')\n",
    "plt.show()"
   ]
  }
 ],
 "metadata": {
  "kernelspec": {
   "display_name": "Python 3 (ipykernel)",
   "language": "python",
   "name": "python3"
  },
  "language_info": {
   "codemirror_mode": {
    "name": "ipython",
    "version": 3
   },
   "file_extension": ".py",
   "mimetype": "text/x-python",
   "name": "python",
   "nbconvert_exporter": "python",
   "pygments_lexer": "ipython3",
   "version": "3.10.6"
  },
  "papermill": {
   "default_parameters": {},
   "duration": 1941.502927,
   "end_time": "2023-07-31T19:47:00.587641",
   "environment_variables": {},
   "exception": null,
   "input_path": "__notebook__.ipynb",
   "output_path": "__notebook__.ipynb",
   "parameters": {},
   "start_time": "2023-07-31T19:14:39.084714",
   "version": "2.4.0"
  }
 },
 "nbformat": 4,
 "nbformat_minor": 5
}
